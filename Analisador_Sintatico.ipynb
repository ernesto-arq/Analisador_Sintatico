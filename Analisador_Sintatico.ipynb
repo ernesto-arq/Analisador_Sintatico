{
  "nbformat": 4,
  "nbformat_minor": 0,
  "metadata": {
    "colab": {
      "name": "Analisador-Sintatico.ipynb",
      "provenance": []
    },
    "kernelspec": {
      "name": "python3",
      "display_name": "Python 3"
    },
    "language_info": {
      "name": "python"
    }
  },
  "cells": [
    {
      "cell_type": "code",
      "metadata": {
        "id": "hfPq7y-wFJQG"
      },
      "source": [
        "import re\n",
        "import pandas as pd\n",
        "from pathlib import Path\n",
        "from os import system, name"
      ],
      "execution_count": null,
      "outputs": []
    },
    {
      "cell_type": "code",
      "metadata": {
        "id": "lH0wOm5VFOol"
      },
      "source": [
        "class Grammar:\n",
        "    def __init__(self, rules):\n",
        "        rules = tuple(rules)\n",
        "        self.rules = tuple(self._parse(rule) for rule in rules)\n",
        "\n",
        "    def _parse(self, rule):\n",
        "        return tuple(rule.replace(' ', '').split('->'))\n",
        "\n",
        "    @property\n",
        "    def nonterminals(self):\n",
        "        return set([nt for nt, _ in self.rules])\n",
        "\n",
        "    @property\n",
        "    def terminals(self):\n",
        "        a = [\n",
        "            expression\n",
        "            for _, expression in self.rules\n",
        "        ]\n",
        "        \n",
        "        nt = sorted([nt for nt, _ in self.rules], key=len, reverse=True)\n",
        "        a = [i for j in [tr3(i, nt) for i in a] for i in j]\n",
        "\n",
        "        for i in nt:\n",
        "            for j in range(0, len(a)):\n",
        "                if re.search(i, a[j]):\n",
        "                    a[j] = a[j].replace(i, '')\n",
        "                a[j] = \" \".join(a[j].split())\n",
        "\n",
        "        tmp = []\n",
        "        for i in a:\n",
        "            if i != '' and i not in tmp:\n",
        "                tmp.append(i)\n",
        "        a = tmp\n",
        "\n",
        "        tmp = []\n",
        "        for i in a:\n",
        "            if len(i) > 1 and not i.isalpha():\n",
        "                tmp2 = []\n",
        "                tmp2.append(list(i))\n",
        "                tmp2 = [i for j in tmp2 for i in j]\n",
        "                for j in tmp2:\n",
        "                    tmp.append(j)\n",
        "            else:\n",
        "                tmp.append(i)\n",
        "        a = tmp\n",
        "\n",
        "        tmp = []\n",
        "        \n",
        "        a = [i for j in [list(i) for i in a] for i in j] # Lugar Onde Comentar ou Descomentar De Acordo com a gramatica\n",
        "        return set(a)"
      ],
      "execution_count": null,
      "outputs": []
    },
    {
      "cell_type": "code",
      "metadata": {
        "id": "n06bCLaIFQpb"
      },
      "source": [
        "def union(first, begins):\n",
        "    n = len(first)\n",
        "    first |= begins\n",
        "    return len(first) != n"
      ],
      "execution_count": null,
      "outputs": []
    },
    {
      "cell_type": "code",
      "metadata": {
        "id": "myxLjkSQFR_D"
      },
      "source": [
        "def clear():\n",
        "    if name == 'nt':\n",
        "        system('cls')\n",
        "    else:\n",
        "        system('clear')"
      ],
      "execution_count": null,
      "outputs": []
    },
    {
      "cell_type": "code",
      "metadata": {
        "id": "dkkHKndAFUEc"
      },
      "source": [
        "def transform2(string, lista):  # conversão e filtragem\n",
        "    listanova = []\n",
        "    texto = \"\"\n",
        "    tam = len(string)\n",
        "    x = 0\n",
        "    while x < tam:\n",
        "        texto += string[x]\n",
        "        if(x < tam-1 and texto+string[x+1] in lista):\n",
        "            listanova.append(texto+string[x+1])\n",
        "            texto = \"\"\n",
        "            x += 1\n",
        "        elif texto in lista:\n",
        "            listanova.append(texto)\n",
        "            texto = \"\"\n",
        "        x += 1\n",
        "    return listanova"
      ],
      "execution_count": null,
      "outputs": []
    },
    {
      "cell_type": "code",
      "metadata": {
        "id": "NlF0TS6TFWQD"
      },
      "source": [
        "def tr3(string, lista):  # conversão e filtragem\n",
        "    stringnova = \"\"\n",
        "    tam = len(string)\n",
        "    x = 0\n",
        "    while x < tam:\n",
        "        if(x < tam-1 and str(string[x]) + str(string[x+1]) in lista):\n",
        "            stringnova += str(\" \")+str(string[x])+str(string[x+1])+str(\" \")\n",
        "            x += 1\n",
        "        elif(str(string[x]) in lista):\n",
        "            stringnova += \" \"+str(string[x])+\" \"\n",
        "        else:\n",
        "            stringnova += str(string[x])\n",
        "        x += 1\n",
        "    return list(filter(lambda x: x != \"\", stringnova.split(\" \")))"
      ],
      "execution_count": null,
      "outputs": []
    },
    {
      "cell_type": "code",
      "metadata": {
        "id": "X7-3SRPFFa92"
      },
      "source": [
        "def verificar_palavra(string, tabela, grammar):\n",
        "    lista = sorted(\n",
        "        (list(grammar.terminals)+list(grammar.nonterminals)), key=len, reverse=True)\n",
        "    lista1 = sorted(list(lista)+list('$'), key=len, reverse=True)\n",
        "    rule = [(i, transform2(j, lista)) for i, j in grammar.rules]\n",
        "    nao_terminais = list(grammar.nonterminals)\n",
        "    terminais = list(grammar.terminals)\n",
        "    string_pilha = transform2(string, lista)\n",
        "\n",
        "    if '^' in rule[0][0]:\n",
        "        rule.pop(0)\n",
        "    rule = tuple(rule)\n",
        "    nt_pilha = [rule[0][0]]\n",
        "\n",
        "    nt_pilha.append('$')\n",
        "    string_pilha.append('$')\n",
        "    top = nt_pilha[0]\n",
        "\n",
        "    verifica = set(tr3(string, lista))\n",
        "    verifica2 = set(transform2(string, lista))\n",
        "    if verifica != verifica2:\n",
        "        return \"ERRO String Inválida!!!!\"\n",
        "\n",
        "    resultado = []\n",
        "\n",
        "    while True:\n",
        "        if not (top == string_pilha[0]) and nt_pilha[0] in terminais:\n",
        "            resultado.append([str(nt_pilha) ,str(string_pilha),\"String Recusada\"])\n",
        "            return \"String Recusada\", resultado\n",
        "        if top == '$' and string_pilha[0] == '$':\n",
        "            resultado.append([str(nt_pilha) ,str(string_pilha),\"Sentença OK\"])\n",
        "            return \"String Aceita\", resultado\n",
        "        if top == string_pilha[0]:\n",
        "            resultado.append([str(nt_pilha), str(string_pilha),\"Desempilha {}\".format(nt_pilha[0])])\n",
        "            nt_pilha.pop(0)\n",
        "            string_pilha.pop(0)\n",
        "            top = nt_pilha[0]\n",
        "        if top in nao_terminais:\n",
        "            ant_top = top\n",
        "            consulta = tabela[(top, string_pilha[0])]\n",
        "            if consulta == 'ERRO':\n",
        "                resultado.append([str(nt_pilha), str(string_pilha) ,\"ERRO - String Recusada Pela Tabela\"]) \n",
        "                return \"ERRO - String Recusada Pela Tabela\", resultado\n",
        "            else:\n",
        "                resultado.append([str(nt_pilha), str(string_pilha),\"{} -> {}\".format(ant_top, consulta)])\n",
        "                nt_pilha[0] = consulta\n",
        "                if len(consulta) > 1:\n",
        "                    nt_pilha = [i for j in [transform2(\n",
        "                        i, lista1) for i in nt_pilha] for i in j]\n",
        "                if nt_pilha[0] == 'ε':\n",
        "                    nt_pilha.pop(0)\n",
        "                top = nt_pilha[0]"
      ],
      "execution_count": null,
      "outputs": []
    },
    {
      "cell_type": "code",
      "metadata": {
        "id": "b0Uis9CaFdJD"
      },
      "source": [
        "def LL1(first, follow, grammar):\n",
        "    lista = sorted(\n",
        "        (list(grammar.terminals)+list(grammar.nonterminals)), key=len, reverse=True)\n",
        "    rule = [(i, transform2(j, lista)) for i, j in grammar.rules]\n",
        "    terminais = grammar.terminals - {'ε'}\n",
        "    if not ('^' in rule[0][0]):\n",
        "        valor = rule[0][0]+'$'\n",
        "        rule.insert(0, ('^', valor))\n",
        "        lista = list(lista) + list('$') + list('^')\n",
        "        terminais |= {'$'}\n",
        "    if '^' in rule[0][0]:\n",
        "        rule.pop(0)\n",
        "    rule = tuple(rule)\n",
        "    terminais = sorted(terminais, key=len, reverse=True)\n",
        "\n",
        "    table = {}\n",
        "    for nt, expression in rule:\n",
        "        for element in list(terminais):\n",
        "            table[nt, element] = 'ERRO'\n",
        "    for nt, expression in rule:\n",
        "        first_set = first[nt]\n",
        "        for element in (first_set-{'ε'}):\n",
        "            for symbol in expression:\n",
        "                if element in first[symbol]:\n",
        "                    table[nt, element] = \"\".join(expression)\n",
        "        if 'ε' in first_set:\n",
        "            for element in follow[nt]:\n",
        "                table[nt, element] = \"\".join(expression)\n",
        "        if 'ε' in first[nt] and '$' in follow[nt]:\n",
        "            table[nt, '$'] = \"\".join(expression)\n",
        "    return table"
      ],
      "execution_count": null,
      "outputs": []
    },
    {
      "cell_type": "code",
      "metadata": {
        "id": "RCPx4Xi0Fhc9"
      },
      "source": [
        "def FirstAndFollow(terminais, nao_terminais, regras):\n",
        "    lista = sorted((list(terminais)+list(nao_terminais)),\n",
        "                   key=len, reverse=True)\n",
        "    first = {i: set() for i in nao_terminais}\n",
        "    first.update((i, {i}) for i in terminais)\n",
        "    follow = {i: set() for i in nao_terminais}\n",
        "\n",
        "    rule = tuple([(i, transform2(j, lista)) for i, j in regras])\n",
        "\n",
        "    if not ('^' in rule[0][0]):\n",
        "        rule = [list(i) for i in rule]\n",
        "        valor = [rule[0][0], '$']\n",
        "        rule.insert(0, ['^', valor])\n",
        "        lista = sorted((list(lista) + list('$') + list('^')),\n",
        "                       key=len, reverse=True)\n",
        "        terminais |= {'$'}\n",
        "        nao_terminais |= {'^'}\n",
        "        rule = tuple(tuple(i) for i in rule)\n",
        "        first = {i: set() for i in nao_terminais}\n",
        "        first.update((i, {i}) for i in terminais)\n",
        "        follow = {i: set() for i in nao_terminais}\n",
        "\n",
        "    epsilon = {'ε'}\n",
        "\n",
        "    while True:\n",
        "        updated = False\n",
        "        for nt, expression in rule:\n",
        "            for symbol in expression:\n",
        "                updated |= union(first[nt], first[symbol])\n",
        "                if symbol not in epsilon:\n",
        "                    break\n",
        "                else:\n",
        "                    updated |= union(epsilon, {nt})\n",
        "            aux = follow[nt]\n",
        "            for symbol in reversed(expression):\n",
        "                if symbol in follow:\n",
        "                    updated |= union(follow[symbol], aux)\n",
        "                if symbol in epsilon:\n",
        "                    aux = aux.union(first[symbol])\n",
        "                else:\n",
        "                    aux = first[symbol]\n",
        "\n",
        "        if not updated:\n",
        "            for chave, valor in follow.items():\n",
        "                if 'ε' in follow[chave]:\n",
        "                    follow[chave] = follow[chave] - {'ε'}\n",
        "            cond1 = False\n",
        "            cond2 = False\n",
        "            for i in epsilon:\n",
        "                if '^' in i:\n",
        "                    cond1 = True\n",
        "                if 'ε' in i:\n",
        "                    cond2 = True\n",
        "\n",
        "            for i in nao_terminais:\n",
        "                if '^' in i:\n",
        "                    first.pop(i)\n",
        "                    follow.pop(i)\n",
        "                if cond1 and '^' in i:\n",
        "                    epsilon.remove(i)\n",
        "\n",
        "            for i in terminais:\n",
        "                # first.pop(i)\n",
        "                first['$'] = '$'\n",
        "                if cond2 and 'ε' in i:\n",
        "                    epsilon.remove(i)\n",
        "            for i in {'$'}:\n",
        "                first.pop(i)\n",
        "\n",
        "            return first, follow, epsilon\n"
      ],
      "execution_count": null,
      "outputs": []
    },
    {
      "cell_type": "code",
      "metadata": {
        "id": "supDOG71FjLU"
      },
      "source": [
        "def retornar_tabela(table):\n",
        "    new_table = {}\n",
        "    for pair in table:\n",
        "        new_table[pair[1]] = {}\n",
        "    for pair in table:\n",
        "        new_table[pair[1]][pair[0]] = table[pair]\n",
        "    df = pd.DataFrame(new_table).fillna('ERRO')\n",
        "    return df"
      ],
      "execution_count": null,
      "outputs": []
    },
    {
      "cell_type": "code",
      "metadata": {
        "id": "2gcaKL67Fk57"
      },
      "source": [
        "def visualizar_tabela(table):\n",
        "    print(\"\\nTabela Sintática Preditiva \\n\")\n",
        "    print(table)\n",
        "    print(\"\\n\")"
      ],
      "execution_count": null,
      "outputs": []
    },
    {
      "cell_type": "code",
      "metadata": {
        "id": "aWspAIaeFmaj"
      },
      "source": [
        "\n",
        "def visual_tab(table):\n",
        "    table2 = {}\n",
        "    for key, val in table.items():\n",
        "        table2[key] = 'ERRO'\n",
        "        if not ('ERRO' in val):\n",
        "            table2[key] = [\"{} -> {}\".format(key[0], val)]\n",
        "    return table2"
      ],
      "execution_count": null,
      "outputs": []
    },
    {
      "cell_type": "code",
      "metadata": {
        "id": "seMmll9UFoBT"
      },
      "source": [
        "\n",
        "def visualizar_first(first):\n",
        "    print(\"First\\n\")\n",
        "    for key, value in first.items():\n",
        "        print(\"First({}) = {}\".format(key, value))\n",
        "    print(\"\\n--------------------------------------------------------------------------------\")"
      ],
      "execution_count": null,
      "outputs": []
    },
    {
      "cell_type": "code",
      "metadata": {
        "id": "zkVGWHCYFpps"
      },
      "source": [
        "\n",
        "def visualizar_follow(follow):\n",
        "    print(\"Follow\\n\")\n",
        "    for key, value in follow.items():\n",
        "        print(\"Follow({}) = {}\".format(key, value))\n",
        "    print(\"\\n--------------------------------------------------------------------------------\")"
      ],
      "execution_count": null,
      "outputs": []
    },
    {
      "cell_type": "code",
      "metadata": {
        "id": "yJXtSMkIFrOE"
      },
      "source": [
        "def visualizar_grammar(grammar):\n",
        "    clear()\n",
        "    print(\"\\n\\nGramatica\\n\")\n",
        "    for i in grammar:\n",
        "        print(i)\n",
        "    print(\"\\n--------------------------------------------------------------------------------\")"
      ],
      "execution_count": null,
      "outputs": []
    },
    {
      "cell_type": "code",
      "metadata": {
        "id": "yY9tQrufFsqs"
      },
      "source": [
        "\n",
        "def limpar_terminais_first(terminais, first):\n",
        "    for i in terminais - {'$'}:\n",
        "        if i in first:\n",
        "            first.pop(i)"
      ],
      "execution_count": null,
      "outputs": []
    },
    {
      "cell_type": "code",
      "metadata": {
        "id": "Ik7Xq_zhFvO-"
      },
      "source": [
        "def tratarArq(lista):\n",
        "    lista = \" \".join(lista.split())\n",
        "    lista = re.split(r' ', lista)\n",
        "    return lista"
      ],
      "execution_count": null,
      "outputs": []
    },
    {
      "cell_type": "code",
      "metadata": {
        "id": "Mj2sQSudFw5k"
      },
      "source": [
        "\n",
        "def lerArquivo(dir):\n",
        "    arquivo = []\n",
        "    b = []\n",
        "    inicio = \"\"\n",
        "    fim = \"\"\n",
        "\n",
        "    with open(dir, \"r\") as gramatica:\n",
        "        for line in gramatica:\n",
        "            arquivo.append(line.replace('Îµ', 'ε').strip().split('\\n'))\n",
        "    arquivo = [i for j in arquivo for i in j]\n",
        "\n",
        "    for i in range(0, len(arquivo)):\n",
        "        temp = []\n",
        "        temp = tratarArq(arquivo[i])\n",
        "        arquivo[i] = temp\n",
        "\n",
        "    for i in range(0, len(arquivo)):\n",
        "        tam = len(arquivo[i])\n",
        "        for j in range(0, tam):\n",
        "            if \"|\" in arquivo[i][j]:\n",
        "                inicio = arquivo[i][0]+\" \"+arquivo[i][1]\n",
        "                fim = arquivo[i][-1]\n",
        "                suma = inicio+\" \"+fim\n",
        "                arquivo.append(tratarArq(suma))\n",
        "\n",
        "    for i in arquivo:\n",
        "        b.append(\" \".join(i[:3]))\n",
        "    return b"
      ],
      "execution_count": null,
      "outputs": []
    },
    {
      "cell_type": "code",
      "metadata": {
        "id": "RmduPD9WFys7"
      },
      "source": [
        "def salvarArquivoFirst(first, epsilon):\n",
        "    outpath = 'output'\n",
        "    Path(outpath).mkdir(exist_ok=True)\n",
        "    with open(outpath+'/First.txt', 'w+', encoding=\"utf-8\") as file:\n",
        "        a = \"Epsilon na Gramatica = {}\".format(epsilon)\n",
        "        file.write(a + '\\n')\n",
        "        for i in first:\n",
        "            a = \"Primeiro({}) = {}\".format(i, first[i])\n",
        "            file.write(a + '\\n')"
      ],
      "execution_count": null,
      "outputs": []
    },
    {
      "cell_type": "code",
      "metadata": {
        "id": "PBuoZI-0F0mE"
      },
      "source": [
        "def salvarArquivoFollow(follow):\n",
        "    outpath = 'output'\n",
        "    Path(outpath).mkdir(exist_ok=True)\n",
        "    with open(outpath+'/Follow.txt', 'w+', encoding=\"utf-8\") as file:\n",
        "        a = ''\n",
        "        for i in follow:\n",
        "            a = \"Follow({}) = {}\".format(i, follow[i])\n",
        "            file.write(a + '\\n')"
      ],
      "execution_count": null,
      "outputs": []
    },
    {
      "cell_type": "code",
      "metadata": {
        "id": "zd_UKw58F2cT"
      },
      "source": [
        "\n",
        "def gravarArquivo(first, follow, epsilon):\n",
        "    outpath = 'output'\n",
        "    Path(outpath).mkdir(exist_ok=True)\n",
        "    with open(outpath+'/First.txt', 'w+', encoding=\"utf-8\") as file:\n",
        "        a = \"Epsilon na Gramatica = {}\".format(epsilon)\n",
        "        file.write(a + '\\n')\n",
        "        for i in first:\n",
        "            a = \"Primeiro({}) = {}\".format(i, first[i])\n",
        "            file.write(a + '\\n')\n",
        "    print(\"\\n\")\n",
        "    with open(outpath+'/Follow.txt', 'w+', encoding=\"utf-8\") as file:\n",
        "        a = ''\n",
        "        for i in follow:\n",
        "            a = \"Follow({}) = {}\".format(i, follow[i])\n",
        "            file.write(a + '\\n')"
      ],
      "execution_count": null,
      "outputs": []
    },
    {
      "cell_type": "code",
      "metadata": {
        "id": "gjqLSdl1F4J1"
      },
      "source": [
        "def printArquivo(dir):\n",
        "    with open(dir, \"r\", encoding=\"utf-8\") as file:\n",
        "        for line in file:\n",
        "            print(line)"
      ],
      "execution_count": null,
      "outputs": []
    },
    {
      "cell_type": "code",
      "metadata": {
        "id": "bjNCAC7TF5zM"
      },
      "source": [
        "\n",
        "def salvar_tabela(tabela):\n",
        "    outpath = 'output'\n",
        "    Path(outpath).mkdir(exist_ok=True)\n",
        "    tabela.to_excel(outpath+'/Tabela.xls')"
      ],
      "execution_count": null,
      "outputs": []
    },
    {
      "cell_type": "code",
      "metadata": {
        "id": "0PmsmiBCF7bk"
      },
      "source": [
        "\n",
        "def tr_terminais(terminais):\n",
        "    return [i for j in [list(i) for i in terminais] for i in j]"
      ],
      "execution_count": null,
      "outputs": []
    },
    {
      "cell_type": "code",
      "metadata": {
        "id": "5ADoBWqIF85T"
      },
      "source": [
        "def salvar_verificador(resultado):\n",
        "    outpath = 'output'\n",
        "    Path(outpath).mkdir(exist_ok=True)\n",
        "    colunas = \"Pilha Entrada Acão\".split()\n",
        "    dados = pd.DataFrame(data=resultado, columns=colunas)\n",
        "    dados.to_excel(outpath+\"/Verificador.xls\")"
      ],
      "execution_count": null,
      "outputs": []
    },
    {
      "cell_type": "code",
      "metadata": {
        "id": "Sp0cBnr5GAZD"
      },
      "source": [
        "def visualizar_saida(first, follow, epsilon, tabela, gramatica):\n",
        "    print('--------------------------------------------------------------------------------')\n",
        "    X = True\n",
        "    while X:\n",
        "        print(\"\\n\")\n",
        "        op = input('1 - Visualizar First\\n2 - Visualizar Follow\\n3 - Visualizar First e Follow\\n4 - Visualizar Tabela\\n5 - Verificar Cadeia\\n6 - Sair\\n\\nDigite a Opção: ')\n",
        "        print('\\n--------------------------------------------------------------------------------\\n')\n",
        "        if op == '1':\n",
        "            clear()\n",
        "            limpar_terminais_first(gramatica.terminals, first)\n",
        "            visualizar_first(first)\n",
        "\n",
        "            opc1 = input(\n",
        "                \"Deseja Salvar em Arquivo ?:\\n\\t(Se Sim Digite :'s', Ou Digite Qualquer Coisa e Dê Enter para Não Salvar): \")\n",
        "            if opc1 == 's':\n",
        "                salvarArquivoFirst(first, epsilon)\n",
        "                print(\"Arquivo Salvo em /output/First.txt\")\n",
        "            elif opc1 != 's':\n",
        "                clear()\n",
        "                pass\n",
        "\n",
        "            opc = input(\n",
        "                \"Deseja voltar ao menu principal:\\n\\t(Se Sim Digite :'s', Ou Digite Qualquer Coisa e Dê Enter para Encerrar): \")\n",
        "            if opc == 's':\n",
        "                clear()\n",
        "                X = True\n",
        "            else:\n",
        "                clear()\n",
        "                X = False\n",
        "\n",
        "        if op == '2':\n",
        "            clear()\n",
        "            visualizar_follow(follow)\n",
        "\n",
        "            opc1 = input(\n",
        "                \"Deseja Salvar em Arquivo ?:\\n\\t(Se Sim Digite :'s', Ou Digite Qualquer Coisa e Dê Enter para Não Salvar): \")\n",
        "            if opc1 == 's':\n",
        "                salvarArquivoFollow(follow)\n",
        "                print(\"Arquivo Salvo em /output/Follow.txt\")\n",
        "            elif opc1 != 's':\n",
        "                clear()\n",
        "                pass\n",
        "\n",
        "            opc = input(\n",
        "                \"Deseja voltar ao menu principal:\\n\\t(Se Sim Digite :'s', Ou Digite Qualquer Coisa e Dê Enter para Encerrar): \")\n",
        "            if opc == 's':\n",
        "                clear()\n",
        "                X = True\n",
        "            else:\n",
        "                clear()\n",
        "                X = False\n",
        "\n",
        "        if op == '3':\n",
        "            clear()\n",
        "            limpar_terminais_first(gramatica.terminals, first)\n",
        "            visualizar_first(first)\n",
        "            print(\n",
        "                '--------------------------------------------------------------------------------\\n')\n",
        "            visualizar_follow(follow)\n",
        "\n",
        "            opc1 = input(\n",
        "                \"Deseja Salvar em Arquivo ?:\\n\\t(Se Sim Digite :'s', Ou Digite Qualquer Coisa e Dê Enter para Não Salvar): \")\n",
        "            if opc1 == 's':\n",
        "                gravarArquivo(first, follow, epsilon)\n",
        "                print(\"Arquivo Salvo em /output/First.txt\")\n",
        "                print(\"Arquivo Salvo em /output/Follow.txt\")\n",
        "            elif opc1 != 's':\n",
        "                clear()\n",
        "                pass\n",
        "\n",
        "            opc = input(\n",
        "                \"Deseja voltar ao menu principal:\\n\\t(Se Sim Digite :'s', Ou Digite Qualquer Coisa e Dê Enter para Encerrar): \")\n",
        "            if opc == 's':\n",
        "                clear()\n",
        "                X = True\n",
        "            else:\n",
        "                clear()\n",
        "                X = False\n",
        "\n",
        "        if op == '4':\n",
        "            clear()\n",
        "            visualizar_tabela(retornar_tabela(visual_tab(tabela)))\n",
        "\n",
        "            opc1 = input(\n",
        "                \"Deseja Salvar em Arquivo ?:\\n\\t(Se Sim Digite :'s', Ou Digite Qualquer Coisa e Dê Enter para Não Salvar): \")\n",
        "            if opc1 == 's':\n",
        "                salvar_tabela(retornar_tabela(visual_tab(tabela)))\n",
        "                print(\"Arquivo Salvo em /output/Tabela.xls\")\n",
        "            elif opc1 != 's':\n",
        "                clear()\n",
        "                pass\n",
        "\n",
        "            opc = input(\n",
        "                \"Deseja voltar ao menu principal:\\n\\t(Se Sim Digite :'s', Ou Digite Qualquer Coisa e Dê Enter para Encerrar): \")\n",
        "            if opc == 's':\n",
        "                clear()\n",
        "                X = True\n",
        "            else:\n",
        "                clear()\n",
        "                X = False\n",
        "\n",
        "        if op == '5':\n",
        "            clear()\n",
        "            verificador = verificar_palavra(\n",
        "                input(\"Escreva uma sentença: \"), tabela, gramatica)\n",
        "\n",
        "            if type(verificador) == tuple:\n",
        "                string, pilha = verificador\n",
        "\n",
        "                col = \"Pilha Entrada Ação\".split()\n",
        "                dados = pd.DataFrame(data=pilha, columns=col)\n",
        "\n",
        "                print(\"\\n\")\n",
        "                print(dados.set_index(['Pilha', 'Entrada']))\n",
        "                print(\"\\n\")\n",
        "\n",
        "                opc1 = input(\n",
        "                    \"Deseja Salvar em Arquivo ?:\\n\\t(Se Sim Digite :'s', Ou Digite Qualquer Coisa e Dê Enter para Não Salvar): \")\n",
        "                if opc1 == 's':\n",
        "                    salvar_verificador(pilha)\n",
        "                    print(\"Arquivo Salvo em /output/Verificador.xls\")\n",
        "                elif opc1 != 's':\n",
        "                    clear()\n",
        "                    pass\n",
        "\n",
        "            opc = input(\n",
        "                \"Deseja voltar ao menu principal:\\n\\t(Se Sim Digite :'s', Ou Digite Qualquer Coisa e Dê Enter para Encerrar): \")\n",
        "            if opc == 's':\n",
        "                clear()\n",
        "                X = True\n",
        "            else:\n",
        "                clear()\n",
        "                X = False\n",
        "\n",
        "        if op == '6':\n",
        "            clear()\n",
        "            X = False"
      ],
      "execution_count": null,
      "outputs": []
    },
    {
      "cell_type": "code",
      "metadata": {
        "id": "ji6xiVTwGDlb"
      },
      "source": [
        "def comentarios_sobre_gramaticas(escolha):\n",
        "    if escolha == 1:\n",
        "        print(\"Sobre a Gramatica a.txt, é necessário (((comentar))) \\na penuntima linha da Função 'terminals' \\nLocalizada em grammar.py Dentro da Classe Grammar \\npara um bom funcionamento do código\")\n",
        "    if escolha == 2:\n",
        "        print(\"Sobre a Gramatica b.txt, é necessário (((descomentar))) \\na penuntima linha da Função 'terminals' \\nLocalizada em grammar.py Dentro da Classe Grammar \\npara um bom funcionamento do código\")\n",
        "    if escolha == 3:\n",
        "        print(\"Sobre a Gramatica c.txt, é necessário (((descomentar))) \\na penuntima linha da Função 'terminals' \\nLocalizada em grammar.py Dentro da Classe Grammar \\npara um bom funcionamento do código\")\n",
        "    if escolha == 4:\n",
        "        print(\"Sobre a Gramatica d.txt, é necessário (((descomentar))) \\na penuntima linha da Função 'terminals' \\nLocalizada em grammar.py Dentro da Classe Grammar \\npara um bom funcionamento do código\")\n",
        "    if escolha == 5:\n",
        "        print(\"Sobre a Gramatica e.txt, é necessário (((descomentar))) \\na penuntima linha da Função 'terminals' \\nLocalizada em grammar.py Dentro da Classe Grammar \\npara um bom funcionamento do código\")\n",
        "    if escolha == 6:\n",
        "        print(\"Sobre a Gramatica f.txt, é necessário (((descomentar))) \\na penuntima linha da Função 'terminals' \\nLocalizada em grammar.py Dentro da Classe Grammar \\npara um bom funcionamento do código\")\n",
        "    if escolha == 7:\n",
        "        print(\"Sobre a Gramatica g.txt, é necessário (((descomentar))) \\na penuntima linha da Função 'terminals' \\nLocalizada em grammar.py Dentro da Classe Grammar \\npara um bom funcionamento do código\")\n",
        "    if escolha == 8:\n",
        "        print(\"Sobre a Gramatica h.txt, é necessário (((descomentar))) \\na penuntima linha da Função 'terminals' \\nLocalizada em grammar.py Dentro da Classe Grammar \\npara um bom funcionamento do código\")\n",
        "    if escolha == 9:\n",
        "        print(\"Sobre a Gramatica i.txt, é necessário (((comentar))) \\na penuntima linha da Função 'terminals' \\nLocalizada em grammar.py Dentro da Classe Grammar \\npara um bom funcionamento do código\")"
      ],
      "execution_count": null,
      "outputs": []
    },
    {
      "cell_type": "code",
      "metadata": {
        "id": "77sxigRXGFru"
      },
      "source": [
        "def main():\n",
        "    dir = \"gramaticas\"\n",
        "\n",
        "    gramatica = [dir+'/a.txt', dir+'/b.txt', dir+'/c.txt',\n",
        "                 dir+'/d.txt', dir+'/e.txt', dir+'/f.txt', dir+'/g.txt', dir+'/h.txt', dir+'/i.txt']\n",
        "\n",
        "    clear()\n",
        "    escolha = int(input('Selecione Entre 1 até 9:\\n1 - a.txt\\n2 - b.txt\\n3 - c.txt\\n4 - d.txt\\n5 - e.txt\\n6 - f.txt\\n7 - g.txt\\n8 - h.txt(Principal)\\n9 - i.txt\\n\\nEscolha uma Gramatica: '))\n",
        "\n",
        "    if not (escolha in [i for i in range(1, 10)]):\n",
        "        print(\"Escolha Invalida\")\n",
        "        exit()\n",
        "\n",
        "    clear()\n",
        "\n",
        "    comentarios_sobre_gramaticas(escolha)\n",
        "    confirmar = input(\n",
        "        \"Digite OK para Continuar ou qualquer coisa para finalizar: \")\n",
        "    if confirmar != 'OK':\n",
        "        clear()\n",
        "        exit()\n",
        "    elif confirmar == 'OK':\n",
        "        clear()\n",
        "        pass\n",
        "\n",
        "    gr = lerArquivo(gramatica[escolha-1])\n",
        "\n",
        "    visualizar_grammar(gr)\n",
        "\n",
        "    gramatica = Grammar(gr)\n",
        "\n",
        "    terminais, nao_terminais, regras = gramatica.terminals, gramatica.nonterminals, gramatica.rules\n",
        "\n",
        "    first, follow, epsilon = FirstAndFollow(terminais, nao_terminais, regras)\n",
        "\n",
        "    tabela = LL1(first, follow, gramatica)\n",
        "\n",
        "    print(\"Epsilon nas Expresões \\n\\n{}\".format(epsilon))\n",
        "\n",
        "    visualizar_saida(first, follow, epsilon, tabela, gramatica)"
      ],
      "execution_count": null,
      "outputs": []
    },
    {
      "cell_type": "code",
      "metadata": {
        "colab": {
          "base_uri": "https://localhost:8080/",
          "height": 595
        },
        "id": "DBxDu6SPGH2s",
        "outputId": "8f5fd3f9-b497-44a7-c225-7950f11eb301"
      },
      "source": [
        "main()"
      ],
      "execution_count": null,
      "outputs": [
        {
          "output_type": "stream",
          "text": [
            "Selecione Entre 1 até 9:\n",
            "1 - a.txt\n",
            "2 - b.txt\n",
            "3 - c.txt\n",
            "4 - d.txt\n",
            "5 - e.txt\n",
            "6 - f.txt\n",
            "7 - g.txt\n",
            "8 - h.txt(Principal)\n",
            "9 - i.txt\n",
            "\n",
            "Escolha uma Gramatica: 1\n",
            "Sobre a Gramatica a.txt, é necessário (((comentar))) \n",
            "a penuntima linha da Função 'terminals' \n",
            "Localizada em grammar.py Dentro da Classe Grammar \n",
            "para um bom funcionamento do código\n",
            "Digite OK para Continuar ou qualquer coisa para finalizar: OK\n"
          ],
          "name": "stdout"
        },
        {
          "output_type": "error",
          "ename": "FileNotFoundError",
          "evalue": "ignored",
          "traceback": [
            "\u001b[0;31m---------------------------------------------------------------------------\u001b[0m",
            "\u001b[0;31mFileNotFoundError\u001b[0m                         Traceback (most recent call last)",
            "\u001b[0;32m<ipython-input-33-263240bbee7e>\u001b[0m in \u001b[0;36m<module>\u001b[0;34m()\u001b[0m\n\u001b[0;32m----> 1\u001b[0;31m \u001b[0mmain\u001b[0m\u001b[0;34m(\u001b[0m\u001b[0;34m)\u001b[0m\u001b[0;34m\u001b[0m\u001b[0;34m\u001b[0m\u001b[0m\n\u001b[0m",
            "\u001b[0;32m<ipython-input-29-7a78aa7981dd>\u001b[0m in \u001b[0;36mmain\u001b[0;34m()\u001b[0m\n\u001b[1;32m     24\u001b[0m         \u001b[0;32mpass\u001b[0m\u001b[0;34m\u001b[0m\u001b[0;34m\u001b[0m\u001b[0m\n\u001b[1;32m     25\u001b[0m \u001b[0;34m\u001b[0m\u001b[0m\n\u001b[0;32m---> 26\u001b[0;31m     \u001b[0mgr\u001b[0m \u001b[0;34m=\u001b[0m \u001b[0mlerArquivo\u001b[0m\u001b[0;34m(\u001b[0m\u001b[0mgramatica\u001b[0m\u001b[0;34m[\u001b[0m\u001b[0mescolha\u001b[0m\u001b[0;34m-\u001b[0m\u001b[0;36m1\u001b[0m\u001b[0;34m]\u001b[0m\u001b[0;34m)\u001b[0m\u001b[0;34m\u001b[0m\u001b[0;34m\u001b[0m\u001b[0m\n\u001b[0m\u001b[1;32m     27\u001b[0m \u001b[0;34m\u001b[0m\u001b[0m\n\u001b[1;32m     28\u001b[0m     \u001b[0mvisualizar_grammar\u001b[0m\u001b[0;34m(\u001b[0m\u001b[0mgr\u001b[0m\u001b[0;34m)\u001b[0m\u001b[0;34m\u001b[0m\u001b[0;34m\u001b[0m\u001b[0m\n",
            "\u001b[0;32m<ipython-input-19-2408fefeb865>\u001b[0m in \u001b[0;36mlerArquivo\u001b[0;34m(dir)\u001b[0m\n\u001b[1;32m      6\u001b[0m     \u001b[0mfim\u001b[0m \u001b[0;34m=\u001b[0m \u001b[0;34m\"\"\u001b[0m\u001b[0;34m\u001b[0m\u001b[0;34m\u001b[0m\u001b[0m\n\u001b[1;32m      7\u001b[0m \u001b[0;34m\u001b[0m\u001b[0m\n\u001b[0;32m----> 8\u001b[0;31m     \u001b[0;32mwith\u001b[0m \u001b[0mopen\u001b[0m\u001b[0;34m(\u001b[0m\u001b[0mdir\u001b[0m\u001b[0;34m,\u001b[0m \u001b[0;34m\"r\"\u001b[0m\u001b[0;34m)\u001b[0m \u001b[0;32mas\u001b[0m \u001b[0mgramatica\u001b[0m\u001b[0;34m:\u001b[0m\u001b[0;34m\u001b[0m\u001b[0;34m\u001b[0m\u001b[0m\n\u001b[0m\u001b[1;32m      9\u001b[0m         \u001b[0;32mfor\u001b[0m \u001b[0mline\u001b[0m \u001b[0;32min\u001b[0m \u001b[0mgramatica\u001b[0m\u001b[0;34m:\u001b[0m\u001b[0;34m\u001b[0m\u001b[0;34m\u001b[0m\u001b[0m\n\u001b[1;32m     10\u001b[0m             \u001b[0marquivo\u001b[0m\u001b[0;34m.\u001b[0m\u001b[0mappend\u001b[0m\u001b[0;34m(\u001b[0m\u001b[0mline\u001b[0m\u001b[0;34m.\u001b[0m\u001b[0mreplace\u001b[0m\u001b[0;34m(\u001b[0m\u001b[0;34m'Îµ'\u001b[0m\u001b[0;34m,\u001b[0m \u001b[0;34m'ε'\u001b[0m\u001b[0;34m)\u001b[0m\u001b[0;34m.\u001b[0m\u001b[0mstrip\u001b[0m\u001b[0;34m(\u001b[0m\u001b[0;34m)\u001b[0m\u001b[0;34m.\u001b[0m\u001b[0msplit\u001b[0m\u001b[0;34m(\u001b[0m\u001b[0;34m'\\n'\u001b[0m\u001b[0;34m)\u001b[0m\u001b[0;34m)\u001b[0m\u001b[0;34m\u001b[0m\u001b[0;34m\u001b[0m\u001b[0m\n",
            "\u001b[0;31mFileNotFoundError\u001b[0m: [Errno 2] No such file or directory: 'gramaticas/a.txt'"
          ]
        }
      ]
    }
  ]
}